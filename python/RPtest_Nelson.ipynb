{
 "cells": [
  {
   "cell_type": "code",
   "execution_count": 1,
   "metadata": {
    "collapsed": false
   },
   "outputs": [
    {
     "name": "stdout",
     "output_type": "stream",
     "text": [
      "Populating the interactive namespace from numpy and matplotlib\n"
     ]
    }
   ],
   "source": [
    "%pylab inline\n",
    "from rpyc import connect\n",
    "#from PyRedPitaya.pc import RedPitaya\n",
    "from PyRedPitaya.client_memory import ClientMemory\n",
    "from PyRedPitaya.memory import MemoryInterface\n",
    "from PyRedPitaya.enum import Enum\n",
    "from PyRedPitaya.instrument import *\n",
    "import time\n",
    "REDPITAYA_IP = '192.168.14.175'"
   ]
  },
  {
   "cell_type": "code",
   "execution_count": 2,
   "metadata": {
    "collapsed": false
   },
   "outputs": [
    {
     "name": "stderr",
     "output_type": "stream",
     "text": [
      "** ShimWarning: The `IPython.qt` package has been deprecated. You should import from qtconsole instead.\n"
     ]
    },
    {
     "name": "stdout",
     "output_type": "stream",
     "text": [
      "Warning could not load Chase AWG dll, check that dll located at 'C:\\_Lib\\python\\slab\\instruments\\awg\\chase\\dax22000_lib_DLL32.dll'\n",
      "Warning could not load LMS labbrick dll, check that dll located at 'C:\\_Lib\\python\\slab\\instruments\\labbrick\\vnx_fmsynth.dll'\n",
      "Warning could not load LabBrick Gui\n",
      "Could not load labbrick\n",
      "DSFIT could not import guiqwt\n"
     ]
    }
   ],
   "source": [
    "from slab.instruments.awg.PXDAC4800 import PXDAC4800"
   ]
  },
  {
   "cell_type": "code",
   "execution_count": 3,
   "metadata": {
    "collapsed": false
   },
   "outputs": [],
   "source": [
    "global PXDAC4800"
   ]
  },
  {
   "cell_type": "code",
   "execution_count": 4,
   "metadata": {
    "collapsed": false
   },
   "outputs": [],
   "source": [
    "class Scope2(MemoryInterface):\n",
    "    data_length = 2**13\n",
    "    def __init__(self, addr_base = 0x40100000, channel='A', **kwd):\n",
    "        kwd[\"addr_base\"] = addr_base\n",
    "        super(Scope2, self).__init__(**kwd)\n",
    "\n",
    "    writestate_machine_bit = GetSetBit(addr=0x0, pos=1)\n",
    "    trigger_bit =  GetSetBit(addr=0x0, pos=0)\n",
    "\n",
    "    def reset_writestate_machine(self,v=True):\n",
    "        self.writestate_machine_bit = v\n",
    "\n",
    "    def arm_trigger(self,v=True):\n",
    "        self.trigger_bit = v\n",
    "\n",
    "    trigger_source = GetSetRegister(0x4, TriggerSource())\n",
    "    threshold_ch1 = GetSetRegister(0x8, SignedInteger(size=14))\n",
    "    threshold_ch2 = GetSetRegister(0xC, SignedInteger(size=14))\n",
    "    trigger_delay = GetSetRegister(0x10, UnsignedInteger(size=32))\n",
    "    data_decimation = GetSetRegister(0x14, Decimation())\n",
    "    write_pointer_current = GetRegister(0x18, UnsignedInteger(size=14))\n",
    "    write_pointer_trigger = GetRegister(0x1C, UnsignedInteger(size=14))\n",
    "    hysteresis_ch1 = GetSetRegister(0x20, SignedInteger(size=14))\n",
    "    hysteresis_ch2 = GetSetRegister(0x24, SignedInteger(size=14))\n",
    "    average = GetSetBit(addr=0x28, pos=0)\n",
    "    ss_mode = GetSetBit(addr=0x28, pos=1)\n",
    "    ss_2ch  = GetSetBit(addr=0x28, pos=2)\n",
    "    #equalization filter not implemented here\n",
    "    dac2_on_ch1 = GetSetBit(0x50, pos=0)\n",
    "    dac1_on_ch2 = GetSetBit(0x50, pos=1)\n",
    "    set_deb_len = GetSetRegister(0x90, SignedInteger(size=20))\n",
    "\n",
    "    hw_avgs = GetSetRegister(0xAC, UnsignedInteger(size=18))\n",
    "    version = GetRegister(0xB0, UnsignedInteger(size=32))\n",
    "    hw_avg_status = GetRegister(0xB4, UnsignedInteger(size=32))\n",
    "    adc_trigged = GetSetBit(0xB4, pos=3)\n",
    "    npt_mode = GetSetBit(0xB4, pos=2)\n",
    "    avg_mode = GetSetBit(0xB4, pos=1)\n",
    "    avg_do = GetSetBit(0xB4, pos=0)\n",
    "    avg_cnt= GetRegister(0xB8, UnsignedInteger(size=18))\n",
    "\n",
    "    abc_a_score = GetRegister(0xBC, SignedInteger(size=32))\n",
    "    abc_b_score = GetRegister(0xC0, SignedInteger(size=32))\n",
    "    win_start   = GetSetRegister(0xC4, SignedInteger(size=14))\n",
    "    win_stop    = GetSetRegister(0xC8, SignedInteger(size=14))\n",
    "\n",
    "    t1 = GetSetBit(0xB4, pos=4)\n",
    "    t2 = GetSetBit(0xB4, pos=5)\n",
    "    t3 = GetSetBit(0xB4, pos=6)\n",
    "    t4 = GetSetBit(0xB4, pos=7)\n",
    "    t5 = GetSetBit(0xB4, pos=8)\n",
    "\n",
    "    #### Function specific to read the array of data\n",
    "    def get_rawdata(self, addr, length = None):\n",
    "        if length is None: length=self.data_length\n",
    "        x = self.reads(addr, length)\n",
    "        y = x.copy()\n",
    "        y.dtype = np.int32\n",
    "        y[y>2**31] -= 2**31\n",
    "        return y\n",
    "\n",
    "    @property\n",
    "    def rawdata_ch1(self):\n",
    "        return self.get_rawdata(0x10000)\n",
    "\n",
    "    @rawdata_ch1.setter\n",
    "    def rawdata_ch1(self, data):\n",
    "        data = [self.from_pyint(v) for v in data]\n",
    "        self.writes(0x10000, data)\n",
    "\n",
    "    @property\n",
    "    def rawdata_ch2(self):\n",
    "        return self.get_rawdata(0x20000)\n",
    "\n",
    "    @rawdata_ch2.setter\n",
    "    def rawdata_ch2(self, data):\n",
    "        data = [self.from_pyint(v) for v in data]\n",
    "        self.writes(0x20000, data)\n",
    "\n",
    "    @property\n",
    "    def data_ch1(self):\n",
    "        return np.roll(self.rawdata_ch1,-int(self.write_pointer_trigger))\n",
    "    @property\n",
    "    def data_ch2(self):\n",
    "        return np.roll(self.rawdata_ch2,-int(self.write_pointer_trigger))\n",
    "\n",
    "    @property\n",
    "    def conv11_data(self):\n",
    "        return np.array([self.to_pyint(v) for v in self.reads(0x30000, self.data_length)])\n",
    "\n",
    "    @conv11_data.setter\n",
    "    def conv11_data(self, data):\n",
    "        data = [self.from_pyint(v) for v in data]\n",
    "        self.writes(0x30000, data)\n",
    "\n",
    "    @property\n",
    "    def conv12_data(self):\n",
    "        return np.array([self.to_pyint(v) for v in self.reads(0x40000, self.data_length)])\n",
    "\n",
    "    @conv12_data.setter\n",
    "    def conv12_data(self, data):\n",
    "        data = [self.from_pyint(v) for v in data]\n",
    "        self.writes(0x40000, data)\n",
    "\n",
    "    @property\n",
    "    def conv21_data(self):\n",
    "        return np.array([self.to_pyint(v) for v in self.reads(0x50000, self.data_length)])\n",
    "\n",
    "    @conv11_data.setter\n",
    "    def conv21_data(self, data):\n",
    "        data = [self.from_pyint(v) for v in data]\n",
    "        self.writes(0x50000, data)\n",
    "\n",
    "    @property\n",
    "    def conv22_data(self):\n",
    "        return np.array([self.to_pyint(v) for v in self.reads(0x60000, self.data_length)])\n",
    "\n",
    "    @conv12_data.setter\n",
    "    def conv22_data(self, data):\n",
    "        data = [self.from_pyint(v) for v in data]\n",
    "        self.writes(0x60000, data)\n",
    "\n",
    "    def set_conv22_data(self, data):\n",
    "        data = [self.from_pyint(v) for v in data]\n",
    "        self.writes(0x60000, data)\n",
    "\n",
    "    # helpers\n",
    "    @property\n",
    "    def times(self):\n",
    "        return np.linspace(0.0,8e-9*self.data_decimation*float(self.data_length),self.data_length,endpoint=False)\n",
    "\n",
    "    def setup_trigger(self, trigger_source=TriggerSource.immediately, threshold_ch1=0,threshold_ch2=0):\n",
    "        self.threshold_ch1 = threshold_ch1\n",
    "        self.threshold_ch2 = threshold_ch2\n",
    "        self.trigger_source = trigger_source\n",
    "        self.set_deb_len = 1000\n",
    "\n",
    "\n",
    "    def acquire_avg(self, samples, avgs=1):\n",
    "        self.reset_writestate_machine(v=True)\n",
    "        self.trigger_delay = samples  # self.data_length\n",
    "        self.dac1_on_ch2 = False\n",
    "        self.dac2_on_ch1 = False\n",
    "        self.data_decimation = 1\n",
    "        self.arm_trigger(v=False)\n",
    "        self.average = False\n",
    "        #self.trigger_source = trigger_source\n",
    "        self.hw_avgs = avgs\n",
    "        self.ss_mode = False\n",
    "\n",
    "        self.reset_writestate_machine(v=False)\n",
    "        self.arm_trigger()\n",
    "\n",
    "        while (self.avg_cnt < avgs):\n",
    "            time.sleep(1E-3)\n",
    "\n",
    "        return self.get_rawdata(0x10000, length = samples)/ max(1, self.avg_cnt), self.get_rawdata(0x20000, length = samples) / max(1, self.avg_cnt)\n",
    "\n",
    "    def acquire_singleshot(self, samples, start=0, stop=None, shots=1, dual_ch=False, use_filter=False, start_function = None, prep_function = None):\n",
    "\n",
    "        if not prep_function == None:\n",
    "            prep_function()\n",
    "\n",
    "        if stop is None: stop = samples\n",
    "        shot_data_ch1 = np.zeros(shots,dtype=long)\n",
    "        if dual_ch: shot_data_ch2 = np.zeros(shots,dtype=long)\n",
    "        shots_read=0\n",
    "        loops=0\n",
    "        data_length=self.data_length\n",
    "\n",
    "\n",
    "        self.reset_writestate_machine(v=True)\n",
    "        self.trigger_delay = samples\n",
    "        self.dac1_on_ch2 = False\n",
    "        self.dac2_on_ch1 = False\n",
    "        self.data_decimation = 1\n",
    "        self.arm_trigger(v=False)\n",
    "        self.average = False\n",
    "        if not use_filter: self.setup_convolution_filter()\n",
    "        self.hw_avgs = shots\n",
    "        self.ss_mode = True\n",
    "        self.ss_2ch = dual_ch\n",
    "        self.win_start = start\n",
    "        self.win_stop = stop\n",
    "\n",
    "        ch1_address=0x10000\n",
    "        ch2_address=0x20000\n",
    "\n",
    "        self.reset_writestate_machine(v=False)\n",
    "        self.arm_trigger()\n",
    "\n",
    "        print \"###########################\"\n",
    "        print \"sleeping 0.1s!\"\n",
    "        time.sleep(0.1)\n",
    "        print \"###########################\"\n",
    "\n",
    "        if not start_function == None:\n",
    "            start_function()\n",
    "\n",
    "        cnt=self.avg_cnt\n",
    "        while (cnt < shots or shots_read < cnt):\n",
    "            if cnt - shots_read > data_length:\n",
    "                print \"Overflow after %d shots, with %d shots read!\" % (cnt, shots_read)\n",
    "                break\n",
    "            mem_start=4*(shots_read % data_length)\n",
    "            read_length = cnt - shots_read\n",
    "\n",
    "\n",
    "            shot_data_ch1[shots_read:shots_read+read_length] = array(self.reads(ch1_address+mem_start, read_length),copy=True,dtype=int32)\n",
    "            if dual_ch:\n",
    "                shot_data_ch2[shots_read:shots_read+read_length] = array(self.reads(ch2_address+mem_start, read_length),copy=True,dtype=int32)\n",
    "\n",
    "            shots_read += read_length\n",
    "\n",
    "            loops+=1\n",
    "            #if loops % 2**11 ==0: print \"x\",\n",
    "            #print \"loops: %d, cnt: %d, shots_read: %d, start: %d, length: %d\" % (loops,cnt,shots_read,start,read_length)\n",
    "\n",
    "            cnt=self.avg_cnt\n",
    "\n",
    "        if dual_ch:\n",
    "            return shot_data_ch1, shot_data_ch2\n",
    "        else:\n",
    "            return shot_data_ch1\n",
    "\n",
    "    def setup_convolution_filter(self, xg=None,yg=None, xe=None,ye=None):\n",
    "        if xg is None or yg is None or xe is None or ye is None:\n",
    "            self.writes(0x30000, np.zeros(self.data_length).astype('int16'))\n",
    "            self.writes(0x40000, np.zeros(self.data_length).astype('int16'))\n",
    "            self.writes(0x50000, (np.ones(self.data_length)).astype('int16'))\n",
    "            self.writes(0x60000, (np.ones(self.data_length)).astype('int16'))\n",
    "            print \"clear conv buffer\"\n",
    "        else:\n",
    "            self.writes(0x30000, ((xg+xe)/2).astype('int16'))\n",
    "            self.writes(0x40000, ((yg+ye)/2).astype('int16'))\n",
    "            self.writes(0x50000, (xe-xg).astype('int16'))\n",
    "            self.writes(0x60000, (ye-yg).astype('int16'))\n",
    "\n",
    "\n",
    "    def setup(self,frequency=1,trigger_source=TriggerSource.immediately):\n",
    "        self.reset_writestate_machine(v=True)\n",
    "        self.trigger_delay = self.data_length\n",
    "        self.dac1_on_ch2 = False\n",
    "        self.dac2_on_ch1 = False\n",
    "        self.arm_trigger(v=False)\n",
    "        self.average = True\n",
    "        self.frequency = frequency\n",
    "        self.trigger_source = trigger_source\n",
    "        self.reset_writestate_machine(v=False)\n",
    "        self.arm_trigger()\n",
    "\n",
    "    def rearm(self,frequency=None,trigger_source = 8):\n",
    "        if not frequency is None:\n",
    "            self.frequency = frequency\n",
    "        self.trigger_delay = self.data_length\n",
    "        self.trigger_source = trigger_source\n",
    "        self.arm_trigger()\n",
    "\n",
    "    @property\n",
    "    def frequency(self):\n",
    "        return 1.0/float(self.data_decimation)/float(self.data_length)/8e-9\n",
    "\n",
    "    @frequency.setter\n",
    "    def frequency(self, v):\n",
    "        fbase = 125e6/float(2**14)\n",
    "        factors = [1,8,64,1024,8192,65536,65537]\n",
    "        for f in factors:\n",
    "            if v > fbase/float(f):\n",
    "                self.data_decimation = f\n",
    "                break\n",
    "            if f == 65537:\n",
    "                self.data_decimation = 65536\n",
    "                print \"Frequency too low: Impossible to sample the entire waveform\"\n",
    "\n",
    "def plot_trajectory(x,y,cmap='winter'):\n",
    "    points = np.array([x, y]).T.reshape(-1, 1, 2)\n",
    "    segments = np.concatenate([points[:-1], points[1:]], axis=1)\n",
    "\n",
    "    lc = LineCollection(segments, cmap=plt.get_cmap(cmap),\n",
    "                        norm=plt.Normalize(0, 1))\n",
    "    lc.set_array(linspace(0,1,len(x)))\n",
    "    lc.set_linewidth(1)\n",
    "\n",
    "    plt.gca().add_collection(lc)\n",
    "    maxval=max(max(abs(x)),max(abs(y)))\n",
    "    plt.xlim(-maxval, maxval)\n",
    "    plt.ylim(-maxval, maxval)\n",
    "\n",
    "def rotate_xy(x,y,angle):\n",
    "    return cos(angle)*x-sin(angle)*y,sin(angle)*x+cos(angle)*y\n",
    "\n",
    "class RedPitaya(ClientMemory):\n",
    "    hk = InterfaceDescriptor(HK)\n",
    "    ams = InterfaceDescriptor(AMS)\n",
    "    scope = InterfaceDescriptor(Scope2)\n",
    "    pid11 = InterfaceDescriptor(Pid,number='11')\n",
    "    pid12 = InterfaceDescriptor(Pid,number='12')\n",
    "    pid21 = InterfaceDescriptor(Pid,number='21')\n",
    "    pid22 = InterfaceDescriptor(Pid,number='22')\n",
    "    asga = InterfaceDescriptor(ASG,channel='A')\n",
    "    asgb = InterfaceDescriptor(ASG,channel='B')"
   ]
  },
  {
   "cell_type": "code",
   "execution_count": 5,
   "metadata": {
    "collapsed": false
   },
   "outputs": [
    {
     "name": "stdout",
     "output_type": "stream",
     "text": [
      "FPGA code version: 44\n"
     ]
    }
   ],
   "source": [
    "conn = connect(REDPITAYA_IP, port=18861)\n",
    "redpitaya = RedPitaya(conn)\n",
    "rp=redpitaya\n",
    "\n",
    "print \"FPGA code version: %d\" % rp.scope.version"
   ]
  },
  {
   "cell_type": "code",
   "execution_count": 6,
   "metadata": {
    "collapsed": false
   },
   "outputs": [
    {
     "name": "stdout",
     "output_type": "stream",
     "text": [
      "load_sequence_file inputs:\n",
      "S:\\_Data\\161117 - Redpitaya Dev\\data\\../sequences/Rabi.rd16\n",
      "[-350, -1800]\n",
      "1.2\n",
      "DPXDAC4800.dll loaded\n",
      "Connecting to PXDAC4800 device.\n",
      "PXDAC4800 device connected.\n",
      "Getting Serial Number.\n",
      "Serial Number: 301483\n",
      "Setting DAC\n",
      "Active Channel Mask: 3\n",
      "Load waveform file.\n",
      "Loading..\n",
      "Loaded!\n",
      "Playback Bytes: 6553600\n"
     ]
    }
   ],
   "source": [
    "PXDAC4800().load_sequence_file(r\"S:\\_Data\\161117 - Redpitaya Dev\\data\\../sequences/Rabi.rd16\"\n",
    "                               , [-350, -1800],1.2)\n",
    "## change this to the appropriate wavelength!\n",
    "PXDAC4800.waveform_length = 16384"
   ]
  },
  {
   "cell_type": "code",
   "execution_count": 7,
   "metadata": {
    "collapsed": false
   },
   "outputs": [
    {
     "name": "stdout",
     "output_type": "stream",
     "text": [
      "spinapi64 DLL loaded!\n"
     ]
    },
    {
     "data": {
      "text/plain": [
       "0"
      ]
     },
     "execution_count": 7,
     "metadata": {},
     "output_type": "execute_result"
    }
   ],
   "source": [
    "from slab.instruments.pulseblaster.pulseblaster import *\n",
    "pb_init()"
   ]
  },
  {
   "cell_type": "code",
   "execution_count": 8,
   "metadata": {
    "collapsed": true
   },
   "outputs": [],
   "source": [
    "def stop_awg():\n",
    "    pb_stop()\n",
    "    PXDAC4800().stop()\n",
    "\n",
    "def run_awg():\n",
    "    PXDAC4800().run_experiment()\n",
    "    time.sleep(0.1)\n",
    "    pb_start()"
   ]
  },
  {
   "cell_type": "code",
   "execution_count": 9,
   "metadata": {
    "collapsed": false
   },
   "outputs": [],
   "source": [
    "rp.scope.setup_trigger (trigger_source=6, threshold_ch1 = 2000, threshold_ch2 = 2000)\n",
    "\n",
    "samples=5000\n",
    "shots=1000\n",
    "\n",
    "stop_awg()\n",
    "run_awg()\n",
    "ch1, ch2 = rp.scope.acquire_avg (samples = samples, avgs = shots)\n",
    "stop_awg()"
   ]
  },
  {
   "cell_type": "code",
   "execution_count": 10,
   "metadata": {
    "collapsed": false
   },
   "outputs": [
    {
     "data": {
      "text/plain": [
       "[<matplotlib.lines.Line2D at 0x934bc18>]"
      ]
     },
     "execution_count": 10,
     "metadata": {},
     "output_type": "execute_result"
    },
    {
     "data": {
      "image/png": "[encoded data removed]",
      "text/plain": [
       "<matplotlib.figure.Figure at 0x934bba8>"
      ]
     },
     "metadata": {},
     "output_type": "display_data"
    }
   ],
   "source": [
    "plt.plot(ch1)\n",
    "plt.plot(ch2)"
   ]
  },
  {
   "cell_type": "code",
   "execution_count": 11,
   "metadata": {
    "collapsed": false
   },
   "outputs": [
    {
     "name": "stdout",
     "output_type": "stream",
     "text": [
      "clear conv buffer\n",
      "###########################\n",
      "sleeping 0.1s!\n",
      "###########################\n"
     ]
    }
   ],
   "source": [
    "start = 1\n",
    "stop = 300\n",
    "\n",
    "shot_data1,shot_data2 = rp.scope.acquire_singleshot (samples = samples, start = start, stop = stop, shots = shots, dual_ch=True\n",
    "                                                         , use_filter=False, start_function= run_awg, prep_function = stop_awg)"
   ]
  },
  {
   "cell_type": "code",
   "execution_count": 12,
   "metadata": {
    "collapsed": false
   },
   "outputs": [
    {
     "name": "stderr",
     "output_type": "stream",
     "text": [
      "** DeprecationWarning: using a non-integer number instead of an integer will result in an error in the future\n",
      "** DeprecationWarning: using a non-integer number instead of an integer will result in an error in the future\n"
     ]
    },
    {
     "data": {
      "text/plain": [
       "(-1, 101)"
      ]
     },
     "execution_count": 12,
     "metadata": {},
     "output_type": "execute_result"
    },
    {
     "data": {
      "image/png": "[encoded data removed]",
      "text/plain": [
       "<matplotlib.figure.Figure at 0x92cbb38>"
      ]
     },
     "metadata": {},
     "output_type": "display_data"
    },
    {
     "data": {
      "image/png": "[encoded data removed]",
      "text/plain": [
       "<matplotlib.figure.Figure at 0x98f4198>"
      ]
     },
     "metadata": {},
     "output_type": "display_data"
    },
    {
     "data": {
      "image/png": "[encoded data removed]",
      "text/plain": [
       "<matplotlib.figure.Figure at 0xb2d3940>"
      ]
     },
     "metadata": {},
     "output_type": "display_data"
    },
    {
     "data": {
      "image/png": "[encoded data removed]",
      "text/plain": [
       "<matplotlib.figure.Figure at 0xb46acc0>"
      ]
     },
     "metadata": {},
     "output_type": "display_data"
    }
   ],
   "source": [
    "num_experiments = 100\n",
    "\n",
    "data_crop1 = shot_data1[0:math.floor(shots/num_experiments)*num_experiments]\n",
    "data_crop1_matrix = np.reshape(data_crop1, (-1, num_experiments))\n",
    "\n",
    "data_crop1_avg = np.mean(data_crop1_matrix, axis=0)\n",
    "data_crop1_std = np.std(data_crop1_matrix, axis=0)\n",
    "\n",
    "data_crop2 = shot_data2[0:math.floor(shots/num_experiments)*num_experiments]\n",
    "data_crop2_matrix = np.reshape(data_crop2, (-1, num_experiments))\n",
    "\n",
    "data_crop2_avg = np.mean(data_crop2_matrix, axis=0)\n",
    "data_crop2_std = np.std(data_crop2_matrix, axis=0)\n",
    "\n",
    "figure()\n",
    "plt.plot (shot_data1)\n",
    "\n",
    "figure()\n",
    "plt.plot (shot_data2)\n",
    "# plt.xlim(0,10)\n",
    "\n",
    "#print np.allclose(shot_data1,shot_data2)\n",
    "\n",
    "figure()\n",
    "plt.errorbar(arange(num_experiments),data_crop1_avg,yerr=data_crop1_std)\n",
    "plt.xlim(-1,num_experiments+1)\n",
    "# plt.xlim(0,34)\n",
    "\n",
    "figure()\n",
    "plt.errorbar(arange(num_experiments),data_crop2_avg,yerr=data_crop2_std)\n",
    "plt.xlim(-1,num_experiments+1)"
   ]
  },
  {
   "cell_type": "code",
   "execution_count": null,
   "metadata": {
    "collapsed": true
   },
   "outputs": [],
   "source": []
  },
  {
   "cell_type": "code",
   "execution_count": null,
   "metadata": {
    "collapsed": true
   },
   "outputs": [],
   "source": []
  }
 ],
 "metadata": {
  "kernelspec": {
   "display_name": "Python 2",
   "language": "python",
   "name": "python2"
  },
  "language_info": {
   "codemirror_mode": {
    "name": "ipython",
    "version": 2
   },
   "file_extension": ".py",
   "mimetype": "text/x-python",
   "name": "python",
   "nbconvert_exporter": "python",
   "pygments_lexer": "ipython2",
   "version": "2.7.11"
  }
 },
 "nbformat": 4,
 "nbformat_minor": 0
}
