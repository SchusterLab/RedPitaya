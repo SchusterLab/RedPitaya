{
 "cells": [
  {
   "cell_type": "code",
   "execution_count": 1,
   "metadata": {
    "collapsed": false
   },
   "outputs": [
    {
     "name": "stdout",
     "output_type": "stream",
     "text": [
      "Populating the interactive namespace from numpy and matplotlib\n"
     ]
    }
   ],
   "source": [
    "%pylab inline\n",
    "from rpyc import connect\n",
    "#from PyRedPitaya.pc import RedPitaya\n",
    "from PyRedPitaya.client_memory import ClientMemory\n",
    "from PyRedPitaya.memory import MemoryInterface\n",
    "from PyRedPitaya.enum import Enum\n",
    "from PyRedPitaya.instrument import *\n",
    "import time\n",
    "REDPITAYA_IP = '192.168.14.241'"
   ]
  },
  {
   "cell_type": "code",
   "execution_count": 2,
   "metadata": {
    "collapsed": false
   },
   "outputs": [],
   "source": [
    "class Scope2(MemoryInterface):\n",
    "    data_length = 2**12\n",
    "    def __init__(self, addr_base = 0x40100000, channel='A', **kwd):\n",
    "        kwd[\"addr_base\"] = addr_base\n",
    "        super(Scope2, self).__init__(**kwd)\n",
    "\n",
    "    writestate_machine_bit = GetSetBit(addr=0x0, pos=1)\n",
    "    trigger_bit =  GetSetBit(addr=0x0, pos=0)\n",
    "    \n",
    "    def reset_writestate_machine(self,v=True):\n",
    "        self.writestate_machine_bit = v\n",
    "    \n",
    "    def arm_trigger(self,v=True):\n",
    "        self.trigger_bit = v\n",
    "    \n",
    "    trigger_source = GetSetRegister(0x4, TriggerSource())\n",
    "    threshold_ch1 = GetSetRegister(0x8, SignedInteger(size=14))\n",
    "    threshold_ch2 = GetSetRegister(0xC, SignedInteger(size=14))\n",
    "    trigger_delay = GetSetRegister(0x10, UnsignedInteger(size=32))\n",
    "    data_decimation = GetSetRegister(0x14, Decimation())\n",
    "    write_pointer_current = GetRegister(0x18, UnsignedInteger(size=14))\n",
    "    write_pointer_trigger = GetRegister(0x1C, UnsignedInteger(size=14))\n",
    "    hysteresis_ch1 = GetSetRegister(0x20, SignedInteger(size=14))\n",
    "    hysteresis_ch2 = GetSetRegister(0x24, SignedInteger(size=14))\n",
    "    average = GetSetBit(addr=0x28, pos=0)\n",
    "    #equalization filter not implemented here\n",
    "    dac2_on_ch1 = GetSetBit(0x50, pos=0)\n",
    "    dac1_on_ch2 = GetSetBit(0x50, pos=1)\n",
    "    \n",
    "    hw_avgs = GetSetRegister(0xAC, UnsignedInteger(size=18))\n",
    "    version = GetRegister(0xB0, UnsignedInteger(size=32))\n",
    "    hw_avg_status = GetRegister(0xB4, UnsignedInteger(size=32))\n",
    "    adc_trigged = GetSetBit(0xB4, pos=3)\n",
    "    npt_mode = GetSetBit(0xB4, pos=2)\n",
    "    avg_mode = GetSetBit(0xB4, pos=1)        \n",
    "    avg_do = GetSetBit(0xB4, pos=0)\n",
    "    avg_cnt= GetRegister(0xB8, UnsignedInteger(size=18))\n",
    "\n",
    "    #### Function specific to read the array of data\n",
    "    def get_rawdata(self, addr):\n",
    "        x = self.reads(addr, self.data_length)\n",
    "        y = x.copy()\n",
    "        y.dtype = np.int32\n",
    "        y[y>2**31] -= 2**31\n",
    "        return y\n",
    "        \n",
    "    @property\n",
    "    def rawdata_ch1(self):\n",
    "        return self.get_rawdata(0x10000)\n",
    "    @property\n",
    "    def rawdata_ch2(self):\n",
    "        return self.get_rawdata(0x20000)\n",
    "    \n",
    "    @property\n",
    "    def data_ch1(self):\n",
    "        return np.roll(self.rawdata_ch1,-int(self.write_pointer_trigger))\n",
    "    @property\n",
    "    def data_ch2(self):\n",
    "        return np.roll(self.rawdata_ch2,-int(self.write_pointer_trigger))\n",
    "    \n",
    "\n",
    "    # helpers\n",
    "    @property\n",
    "    def times(self):\n",
    "        return np.linspace(0.0,8e-9*self.data_decimation*float(self.data_length),self.data_length,endpoint=False)\n",
    "    \n",
    "    def setup(self,frequency=1,trigger_source=TriggerSource.immediately):\n",
    "        self.reset_writestate_machine(v=True)\n",
    "        self.trigger_delay = self.data_length\n",
    "        self.dac1_on_ch2 = False\n",
    "        self.dac2_on_ch1 = False\n",
    "        self.arm_trigger(v=False)\n",
    "        self.average = True\n",
    "        self.frequency = frequency\n",
    "        self.trigger_source = trigger_source\n",
    "        self.reset_writestate_machine(v=False)\n",
    "        self.arm_trigger()\n",
    "    \n",
    "    def rearm(self,frequency=None,trigger_source = 8):\n",
    "        if not frequency is None:\n",
    "            self.frequency = frequency\n",
    "        self.trigger_delay = self.data_length\n",
    "        self.trigger_source = trigger_source\n",
    "        self.arm_trigger()\n",
    "    \n",
    "    @property\n",
    "    def frequency(self):\n",
    "        return 1.0/float(self.data_decimation)/float(self.data_length)/8e-9\n",
    "    \n",
    "    @frequency.setter\n",
    "    def frequency(self, v):\n",
    "        fbase = 125e6/float(2**14)\n",
    "        factors = [1,8,64,1024,8192,65536,65537]\n",
    "        for f in factors:\n",
    "            if v > fbase/float(f):\n",
    "                self.data_decimation = f\n",
    "                break\n",
    "            if f == 65537:\n",
    "                self.data_decimation = 65536\n",
    "                print \"Frequency too low: Impossible to sample the entire waveform\"\n",
    "\n",
    "\n",
    "\n",
    "class RedPitaya(ClientMemory):\n",
    "    hk = InterfaceDescriptor(HK)\n",
    "    ams = InterfaceDescriptor(AMS)\n",
    "    scope = InterfaceDescriptor(Scope2)\n",
    "    pid11 = InterfaceDescriptor(Pid,number='11')\n",
    "    pid12 = InterfaceDescriptor(Pid,number='12')\n",
    "    pid21 = InterfaceDescriptor(Pid,number='21')\n",
    "    pid22 = InterfaceDescriptor(Pid,number='22')\n",
    "    asga = InterfaceDescriptor(ASG,channel='A')\n",
    "    asgb = InterfaceDescriptor(ASG,channel='B')\n"
   ]
  },
  {
   "cell_type": "code",
   "execution_count": 3,
   "metadata": {
    "collapsed": false
   },
   "outputs": [
    {
     "name": "stdout",
     "output_type": "stream",
     "text": [
      "FPGA code version: 20\n"
     ]
    }
   ],
   "source": [
    "conn = connect(REDPITAYA_IP, port=18861)\n",
    "redpitaya = RedPitaya(conn)\n",
    "rp=redpitaya\n",
    "\n",
    "print \"FPGA code version: %d\" % rp.scope.version"
   ]
  },
  {
   "cell_type": "code",
   "execution_count": null,
   "metadata": {
    "collapsed": false,
    "scrolled": false
   },
   "outputs": [],
   "source": [
    "print \".bit version: %d\" % rp.scope.version\n",
    "\n",
    "rp.scope.reset_writestate_machine(v=True)\n",
    "rp.scope.trigger_delay = rp.scope.data_length\n",
    "rp.scope.dac1_on_ch2 = False\n",
    "rp.scope.dac2_on_ch1 = False\n",
    "rp.scope.data_decimation = 1\n",
    "rp.scope.arm_trigger(v=False)\n",
    "rp.scope.average = False\n",
    "rp.scope.trigger_source = 4\n",
    "rp.scope.threshold_ch1 = 4000\n",
    "rp.scope.threshold_ch2 = 4000\n",
    "rp.scope.hw_avgs=1000\n",
    "rp.scope.reset_writestate_machine(v=False)\n",
    "rp.scope.arm_trigger()\n",
    "\n",
    "#for ii in range(avgs):\n",
    "#    rp.scope.trigger_source=4\n",
    "while (rp.scope.avg_cnt<rp.scope.hw_avgs):\n",
    "    time.sleep(10E-3)\n",
    "\n",
    "subplot(111,xlabel=\"Time (us)\", ylabel=\"Voltage\", title=\"Scope\")\n",
    "plot (rp.scope.times*1e6,rp.scope.rawdata_ch1/rp.scope.avg_cnt,'r')\n",
    "plot (rp.scope.times*1e6,rp.scope.rawdata_ch2/rp.scope.avg_cnt,'b')\n",
    "#xlim(0,1)\n",
    "print \"hw_avgs: %d, avg_cnt: %d, adc_trigged: %d, npt_mode: %d, avg_mode: %d, avg_do: %d\" %(rp.scope.hw_avgs,rp.scope.avg_cnt,rp.scope.adc_trigged, rp.scope.npt_mode, rp.scope.avg_mode, rp.scope.avg_do )"
   ]
  },
  {
   "cell_type": "code",
   "execution_count": null,
   "metadata": {
    "collapsed": true
   },
   "outputs": [],
   "source": [
    "def simulated_pulse(state, kappa, gamma, eta, tpts):\n",
    "    tup=random.exponential(1./(2.*pi*gamma))\n",
    "    #tup=1./(2.*pi*gamma)*random()\n",
    "    return (1-exp(-kappa*tpts))*exp(-kappa*(tpts>tup)*(tpts-tup))*state+random.normal(0,eta,len(tpts))"
   ]
  },
  {
   "cell_type": "code",
   "execution_count": null,
   "metadata": {
    "collapsed": false
   },
   "outputs": [],
   "source": [
    "tpts=linspace(0,10e-6,101)\n",
    "ans=zeros(len(tpts))\n",
    "for n in arange(1,1000):\n",
    "    ans=(ans*(n-1)+simulated_pulse(state=1,kappa=1e6,gamma=1e5,eta=1,tpts=tpts))/n\n",
    "plot(tpts,simulated_pulse(state=1,kappa=1e6,gamma=1e5,eta=.25,tpts=tpts))\n",
    "plot(tpts,ans)"
   ]
  },
  {
   "cell_type": "code",
   "execution_count": null,
   "metadata": {
    "collapsed": true
   },
   "outputs": [],
   "source": []
  }
 ],
 "metadata": {
  "kernelspec": {
   "display_name": "Python 2",
   "language": "python",
   "name": "python2"
  },
  "language_info": {
   "codemirror_mode": {
    "name": "ipython",
    "version": 2
   },
   "file_extension": ".py",
   "mimetype": "text/x-python",
   "name": "python",
   "nbconvert_exporter": "python",
   "pygments_lexer": "ipython2",
   "version": "2.7.11"
  }
 },
 "nbformat": 4,
 "nbformat_minor": 0
}
